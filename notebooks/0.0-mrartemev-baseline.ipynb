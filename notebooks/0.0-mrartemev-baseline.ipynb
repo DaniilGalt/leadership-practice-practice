{
 "cells": [
  {
   "cell_type": "markdown",
   "metadata": {},
   "source": [
    "Все импорты должны выполняться, особенно если вы запускаете это внутри докера"
   ]
  },
  {
   "cell_type": "code",
   "execution_count": 1,
   "metadata": {},
   "outputs": [
    {
     "name": "stdout",
     "output_type": "stream",
     "text": [
      "Populating the interactive namespace from numpy and matplotlib\n"
     ]
    }
   ],
   "source": [
    "%pylab inline\n",
    "%config InlineBackend.figure_format = 'retina'\n",
    "style.use('dark_background')\n",
    "from IPython.display import clear_output\n",
    "from copy import copy, deepcopy\n",
    "from tqdm import tqdm_notebook as tm\n",
    "from tqdm import trange\n",
    "from glob import glob\n",
    "import os\n",
    "import sys\n",
    "import warnings\n",
    "warnings.filterwarnings(\"ignore\")\n",
    "import os\n",
    "os.environ['TF_CPP_MIN_LOG_LEVEL'] = '3' "
   ]
  },
  {
   "cell_type": "code",
   "execution_count": 3,
   "metadata": {},
   "outputs": [],
   "source": [
    "import pandas as pd\n",
    "import pandas.io.sql as psql"
   ]
  },
  {
   "cell_type": "markdown",
   "metadata": {},
   "source": [
    "Вспомогательные функции для запроса данных из базы"
   ]
  },
  {
   "cell_type": "code",
   "execution_count": 4,
   "metadata": {},
   "outputs": [],
   "source": [
    "def get_conn():\n",
    "    import psycopg2 as pg\n",
    "    return pg.connect(\"dbname=vk_data user=vk_parser password=WegEWWXfedLf2YbS host=13.84.188.132\")\n",
    "\n",
    "def run_sql(query):\n",
    "    import pandas.io.sql as psql\n",
    "    res = psql.read_sql(query, get_conn())\n",
    "    try:\n",
    "        return res.set_index('uid')\n",
    "    except:\n",
    "        import warnings\n",
    "        warnings.warn(\"[run_sql] UID wasn't selected, default index used\")\n",
    "        return res\n",
    "\n",
    "def get_uid():\n",
    "    return run_sql(\"SELECT uid FROM users WHERE data_loaded\")"
   ]
  },
  {
   "cell_type": "code",
   "execution_count": 5,
   "metadata": {},
   "outputs": [
    {
     "data": {
      "text/html": [
       "<div>\n",
       "<style scoped>\n",
       "    .dataframe tbody tr th:only-of-type {\n",
       "        vertical-align: middle;\n",
       "    }\n",
       "\n",
       "    .dataframe tbody tr th {\n",
       "        vertical-align: top;\n",
       "    }\n",
       "\n",
       "    .dataframe thead th {\n",
       "        text-align: right;\n",
       "    }\n",
       "</style>\n",
       "<table border=\"1\" class=\"dataframe\">\n",
       "  <thead>\n",
       "    <tr style=\"text-align: right;\">\n",
       "      <th></th>\n",
       "    </tr>\n",
       "    <tr>\n",
       "      <th>uid</th>\n",
       "    </tr>\n",
       "  </thead>\n",
       "  <tbody>\n",
       "    <tr>\n",
       "      <th>21754523</th>\n",
       "    </tr>\n",
       "    <tr>\n",
       "      <th>67223827</th>\n",
       "    </tr>\n",
       "    <tr>\n",
       "      <th>190775618</th>\n",
       "    </tr>\n",
       "    <tr>\n",
       "      <th>6608545</th>\n",
       "    </tr>\n",
       "    <tr>\n",
       "      <th>2124713</th>\n",
       "    </tr>\n",
       "  </tbody>\n",
       "</table>\n",
       "</div>"
      ],
      "text/plain": [
       "Empty DataFrame\n",
       "Columns: []\n",
       "Index: [21754523, 67223827, 190775618, 6608545, 2124713]"
      ]
     },
     "execution_count": 5,
     "metadata": {},
     "output_type": "execute_result"
    }
   ],
   "source": [
    "df = run_sql(\"SELECT uid FROM users WHERE first_name = 'Аня'\")\n",
    "df.head()"
   ]
  },
  {
   "cell_type": "code",
   "execution_count": 6,
   "metadata": {},
   "outputs": [
    {
     "data": {
      "text/html": [
       "<div>\n",
       "<style scoped>\n",
       "    .dataframe tbody tr th:only-of-type {\n",
       "        vertical-align: middle;\n",
       "    }\n",
       "\n",
       "    .dataframe tbody tr th {\n",
       "        vertical-align: top;\n",
       "    }\n",
       "\n",
       "    .dataframe thead th {\n",
       "        text-align: right;\n",
       "    }\n",
       "</style>\n",
       "<table border=\"1\" class=\"dataframe\">\n",
       "  <thead>\n",
       "    <tr style=\"text-align: right;\">\n",
       "      <th></th>\n",
       "      <th>from_id</th>\n",
       "      <th>text</th>\n",
       "    </tr>\n",
       "  </thead>\n",
       "  <tbody>\n",
       "    <tr>\n",
       "      <th>0</th>\n",
       "      <td>82380</td>\n",
       "      <td>Ой, да ладно тебе;)) Стиснительный тут нашелся...</td>\n",
       "    </tr>\n",
       "    <tr>\n",
       "      <th>1</th>\n",
       "      <td>36596923</td>\n",
       "      <td>ой да ладно тебе=)\\nя думаю что ти думаешь что...</td>\n",
       "    </tr>\n",
       "    <tr>\n",
       "      <th>2</th>\n",
       "      <td>15759198</td>\n",
       "      <td>хд да ладно тебе)))))))я же шучу насчет кулисо...</td>\n",
       "    </tr>\n",
       "    <tr>\n",
       "      <th>3</th>\n",
       "      <td>1480663</td>\n",
       "      <td>ой, да ладно тебе)))))))  кто бы говорил!!!!</td>\n",
       "    </tr>\n",
       "    <tr>\n",
       "      <th>4</th>\n",
       "      <td>1088981</td>\n",
       "      <td>ахахах!! да ладно тебе издеваться, Ир!))))))))...</td>\n",
       "    </tr>\n",
       "  </tbody>\n",
       "</table>\n",
       "</div>"
      ],
      "text/plain": [
       "    from_id                                               text\n",
       "0     82380  Ой, да ладно тебе;)) Стиснительный тут нашелся...\n",
       "1  36596923  ой да ладно тебе=)\\nя думаю что ти думаешь что...\n",
       "2  15759198  хд да ладно тебе)))))))я же шучу насчет кулисо...\n",
       "3   1480663       ой, да ладно тебе)))))))  кто бы говорил!!!!\n",
       "4   1088981  ахахах!! да ладно тебе издеваться, Ир!))))))))..."
      ]
     },
     "execution_count": 6,
     "metadata": {},
     "output_type": "execute_result"
    }
   ],
   "source": [
    "df = run_sql(\"SELECT from_id, text FROM posts  WHERE (text <> '') AND (text LIKE '% да ладно тебе%')\")\n",
    "df.head()"
   ]
  },
  {
   "cell_type": "markdown",
   "metadata": {},
   "source": [
    "### Извлекаем эмодзи из сообщений"
   ]
  },
  {
   "cell_type": "code",
   "execution_count": 7,
   "metadata": {},
   "outputs": [],
   "source": [
    "# !pip3 install emoji\n",
    "import emoji"
   ]
  },
  {
   "cell_type": "code",
   "execution_count": 8,
   "metadata": {},
   "outputs": [],
   "source": [
    "def getEmojiFromString(text):\n",
    "    listText = list(text)\n",
    "    emojiList = [c for c in listText if c in emoji.UNICODE_EMOJI]\n",
    "    return np.unique(emojiList, return_counts=True)\n",
    "\n",
    "def getSarcasmEmojiFromString(text):\n",
    "    sarcasmEmoji = ['🙃', '🐸', '💁', '🌝']\n",
    "    emojiList = [c for c in text if c in emoji.UNICODE_EMOJI]\n",
    "    sarcasmEmojiList = [c for c in emojiList if c in sarcasmEmoji]\n",
    "    return np.unique(sarcasmEmojiList, return_counts=True)\n",
    "\n",
    "def getNegativeEmojiFromString(text):\n",
    "    negativeEmoji = ['😠', '😡', '😤', '👿', '👎', '👊', '👺', '🤬', '😈', '💀', '☠️', '🔫', '😕', '🙅', '😾', '🖕']\n",
    "    emojiList = [c for c in text if c in emoji.UNICODE_EMOJI]\n",
    "    sarcasmEmojiList = [c for c in emojiList if c in negativeEmoji]\n",
    "    return np.unique(sarcasmEmojiList, return_counts=True)\n",
    "\n",
    "def getNegativeEmojiValueFromString(s):\n",
    "    negEmoji = getNegativeEmojiFromString(s)\n",
    "    return negEmoji[1].sum()"
   ]
  },
  {
   "cell_type": "markdown",
   "metadata": {},
   "source": [
    "### Выделяем \"сарказм\" из текста"
   ]
  },
  {
   "cell_type": "code",
   "execution_count": 9,
   "metadata": {},
   "outputs": [],
   "source": [
    "import string \n",
    "def removePunctuationFromString(s):\n",
    "    return s.translate(str.maketrans('', '', string.punctuation))\n",
    "\n",
    "def getSarcasmPhraseFromString(s):\n",
    "    sarcasmVocabulary = ['ну да конечно', 'да что ты говоришь', 'да ладно', 'спасибо кэп', 'что бы мы без тебя делали',\n",
    "                         'ага конечно', 'прям сразу', 'прямо сразу', 'ой конечно', 'ой ладно', 'да что ты', 'ой да конечно']\n",
    "    strClean = removePunctuationFromString(s)\n",
    "    sarcasmList = []\n",
    "    for sarcasmExpression in sarcasmVocabulary:\n",
    "        if sarcasmExpression in s:\n",
    "            sarcasmList.append(sarcasmExpression)\n",
    "    return sarcasmList\n",
    "\n",
    "def getSarcasmValueFromString(s):\n",
    "    sarcasmPhrase = getSarcasmPhraseFromString(s)\n",
    "    sarcasmEmoji = getSarcasmEmojiFromString(s)\n",
    "    return int(len(sarcasmPhrase) or len(sarcasmEmoji[0]))"
   ]
  },
  {
   "cell_type": "code",
   "execution_count": 16,
   "metadata": {},
   "outputs": [
    {
     "name": "stdout",
     "output_type": "stream",
     "text": [
      "ой да ладно прям стесняшка\n",
      "['да ладно']\n",
      "1\n"
     ]
    }
   ],
   "source": [
    "s = 'ой да ладно прям стесняшка!))))'\n",
    "print(removePunctuationFromString(s))\n",
    "print(getSarcasmPhraseFromString(s))\n",
    "print(getSarcasmValueFromString(s))\n"
   ]
  },
  {
   "cell_type": "code",
   "execution_count": 14,
   "metadata": {},
   "outputs": [],
   "source": [
    "def getPostsByUid(uid):\n",
    "    sqlQuery = \"SELECT from_id, text FROM posts  WHERE (text <> '') AND (from_id = \" + str(uid) + \")\"\n",
    "    return run_sql(sqlQuery).text"
   ]
  },
  {
   "cell_type": "code",
   "execution_count": 15,
   "metadata": {},
   "outputs": [
    {
     "data": {
      "text/plain": [
       "0                                       хм...в смысле?)\n",
       "1     не я все так удаляю))оставляю ток картинки и м...\n",
       "2                    аххах ну это все для дебя детка)))\n",
       "3     ой не повериш как я искала искала хд))а потом ...\n",
       "4                           аххаха вот сейчас)))))хд)))\n",
       "5                            пашка!!!а я тебя нашла))хд\n",
       "6                                  урааа пасипки зай)))\n",
       "7     хд да ладно тебе)))))))я же шучу насчет кулисо...\n",
       "8     хд ну пашечка ну солнышко..ну малыш..ну кися))...\n",
       "9                 аххах а ты меня возешь с собой???))))\n",
       "10    пасип зайк))обязательно буду)))хахах)))*лыбить...\n",
       "11    ооххохо прикольно))я та тоже не плохо это а ко...\n",
       "12    оооо пашка ну ты отрастил патлы))))мужичек))))...\n",
       "Name: text, dtype: object"
      ]
     },
     "execution_count": 15,
     "metadata": {},
     "output_type": "execute_result"
    }
   ],
   "source": [
    "getPostsByUid(15759198)"
   ]
  },
  {
   "cell_type": "code",
   "execution_count": null,
   "metadata": {},
   "outputs": [],
   "source": []
  },
  {
   "cell_type": "code",
   "execution_count": null,
   "metadata": {},
   "outputs": [],
   "source": []
  }
 ],
 "metadata": {
  "kernelspec": {
   "display_name": "Python 3",
   "language": "python",
   "name": "python3"
  },
  "language_info": {
   "codemirror_mode": {
    "name": "ipython",
    "version": 3
   },
   "file_extension": ".py",
   "mimetype": "text/x-python",
   "name": "python",
   "nbconvert_exporter": "python",
   "pygments_lexer": "ipython3",
   "version": "3.5.2"
  }
 },
 "nbformat": 4,
 "nbformat_minor": 2
}
